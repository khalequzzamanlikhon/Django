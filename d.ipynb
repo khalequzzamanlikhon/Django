{
 "cells": [
  {
   "cell_type": "markdown",
   "metadata": {},
   "source": []
  },
  {
   "cell_type": "markdown",
   "metadata": {},
   "source": [
    "# Reauirements\n",
    " - Python\n",
    " - Relational Database\n",
    " "
   ]
  },
  {
   "cell_type": "markdown",
   "metadata": {},
   "source": [
    "# Django Fundamentals\n",
    "\n",
    " - Introduction to Django\n",
    " - Fundamental of web development\n",
    " - Setting up the development environment\n",
    " - first project \n",
    " - 2 seasonal debugging techniques"
   ]
  },
  {
   "cell_type": "markdown",
   "metadata": {
    "vscode": {
     "languageId": "plaintext"
    }
   },
   "source": [
    "## What is django?\n",
    "- Free and open source framework for buildilng web apps with python. It's not the only one but most famous one\n",
    "\n",
    "- Companies using django\n",
    "  - youtube, instagram, spotify, dropbox\n",
    "\n",
    "\n",
    "## Django features\n",
    " - The admin site : Managing our data\n",
    " - Object-realational mapper (ORM) : abstract database\n",
    " - Authentication : for identifying users\n",
    " - Caching : caching data"
   ]
  },
  {
   "cell_type": "markdown",
   "metadata": {
    "vscode": {
     "languageId": "plaintext"
    }
   },
   "source": [
    "**Core concept of web development**\n",
    "\n",
    "There are two main parts of web development namely, client site and server site. let's say when we type somneting sya for google.com {this is called URL : uniform resource locator} at client site,\n",
    "then a request go to the server site and tells that client wants to know about the home page of google.com. then information/data is sent back to the clinet site. Theis way of passing information \n",
    "is called HTTP. The information can be sent either by generating a home page {html file} or jsut send the data. It's more convenient to send only data because server site can be used to serve more clients.\n",
    "and therefore the html pages are now part of clients site. and the data processing is the part of server site. For example react, angular are on client site, and django for example is a part of backend or\n",
    "client site part \n",
    "\n",
    "\n",
    "**API:**\n",
    "SO if we push the responsibility of generating web pages to the client, the server essentially become a gateway to t he data. At the server we can provide endpoints that  the client can talk to, to get or save various pieces of data. For example, we  provide one end point to get  the list of proudcts , other for order list and so on. All the endpoints together represent the interface that the client use to talk to the server. In technical terms we say that the server provides an API (applicaiton interface programming). So our focus is to build an API using django"
   ]
  },
  {
   "cell_type": "markdown",
   "metadata": {
    "vscode": {
     "languageId": "plaintext"
    }
   },
   "source": [
    "## Setting up the development Environment\n",
    "\n",
    "- Download the latest version of python\n",
    "\n",
    "- install pipenv by typing following at command prompt\n",
    "\n",
    "       - pip install pipenv"
   ]
  },
  {
   "cell_type": "markdown",
   "metadata": {},
   "source": [
    "# Creating first django project"
   ]
  },
  {
   "cell_type": "markdown",
   "metadata": {
    "vscode": {
     "languageId": "plaintext"
    }
   },
   "source": [
    "- create djano project by typing follwoing command\n",
    "  \n",
    "  - pipenv install django\n",
    "\n",
    "- this will create a virtual Environment and install djangon into that Environment\n",
    "- additionally this will create also two files namely Pipfile and Pipfile.lock. Pipfile is like package.json for java script project.\n",
    "- to activate the virtual Environment in order to use python enterpreter in this envrironment not the golbal run the follwoing command\n",
    "   \n",
    "    - pipenv shell\n",
    "\n",
    "- we will use django-admin to start a new project\n",
    "    - django-admin\n",
    "\n",
    "- django-admin is a utility that comes with django\n",
    "-to create a project run follwon command\n",
    "   - django-admin startproject projectname .\n",
    "\n",
    "- the dot creates the project inside that folder you are running your command\n",
    "\n",
    "- After creating the project there will be several file insinde it. Among them\n",
    " \n",
    "  - __init__.py : which defines the directory as package\n",
    "  - Settings.py : where we will define our application setting \n",
    "  - urls.py : where we will define the urls of our application\n",
    "  - asgi.py and wsgi.py : used for deployment of our application\n",
    "\n",
    "  \n",
    "- Outside the project directory there weil be manage.py file this is awrppaer  around django admin. So going forweard instead of django-admin we're goning to use this file. Because this file takes the settings of this project into account. For example another command runserver if we run it using django-admin runserver we will get error \" Requested setting INSTALLED_APPS, but settings are not configured. You must either define the environment variable DJANGO_SETTINGS_MODULE or call settings.configure() before accessing settings.).\" so instead of running it we will use \"python manage.py runserver portnumber\" we can set the portnumber optionally. by default it takes 8000. if another application is running using this default we should give new portnumber. if we run it we will get something like \"Starting development server at http://127.0.0.1:8000/\". If we run the https address inthe browser we will get our application. compy paste onbly 127.0.0.1:8000/ to the browser."
   ]
  },
  {
   "cell_type": "markdown",
   "metadata": {},
   "source": [
    "# Creating first app\n",
    "\n",
    "Each django project is a collection of various apps each provide certain functionality. In the setting module there are sevearl apps that are default namely,\n",
    "\n",
    "   - 'django.contrib.admin' : gives an admin interface\n",
    "   - 'django.contrib.auth' : for authenticating users\n",
    "   - 'django.contrib.contenttypes' : \n",
    "   - 'django.contrib.sessions' : session is a temporary memory on\n",
    "                                 server  for managing users data. We don't use it when we build django API. so we will delete this\n",
    "   - 'django.contrib.messages' : used to display one time notifications \n",
    "                                 to user\n",
    "   - 'django.contrib.staticfiles' : used for serving staticfiles such \n",
    "                                    as css, iamges and so on\n",
    "\n",
    "\n",
    "We can create new app for our own for this we need to run the following command \n",
    "\n",
    "      - python manage.py startapp appname\n",
    "\n",
    "every app has the same strcture inside it. Each has, __init__.py, admin.py, apps.py, models.py, tests.py, views.py. Most importatnt thing is that, everytime we create an app we need to register it inside the settings.py of main project"
   ]
  },
  {
   "cell_type": "markdown",
   "metadata": {},
   "source": [
    "# Writing views : \n",
    "\n",
    "we already know that every data exchange between client and server requires a request and an response, this is wehere we use **views** in django. it receives a requrest and returns an response, so it can be called request handler.\n",
    "\n",
    "- we need to map each view to a url, so using the url this view can be called"
   ]
  },
  {
   "cell_type": "markdown",
   "metadata": {},
   "source": [
    "# Mapping URL to views\n",
    "\n",
    "we nee to create a urls in the appfolder, and also add that url in the main project url section\n"
   ]
  },
  {
   "cell_type": "markdown",
   "metadata": {},
   "source": [
    "# Using templates\n"
   ]
  },
  {
   "cell_type": "markdown",
   "metadata": {},
   "source": [
    "templates are used to returen html ocntent to the users. For using templates we need to create a folder inside the app folder, here inside the playground we create a template folder and inside it we create a hello.html file which is a template. We need to create urls in the view for each template.\n",
    "\n"
   ]
  },
  {
   "cell_type": "markdown",
   "metadata": {},
   "source": [
    "# Debuging toolbar\n",
    "\n",
    "Go to the following link and follow instructions\n",
    "link: https://django-debug-toolbar.readthedocs.io/en/latest/installation.html\n"
   ]
  },
  {
   "cell_type": "markdown",
   "metadata": {},
   "source": [
    "# Models \n",
    "\n",
    "- are used to store and retrieve data\n",
    "\n",
    "What will we learn?\n",
    "  - introduction to data\n",
    "  - bulding an e-commerce data model\n",
    "  - organizing models in apps\n",
    "  - Coding model classes\n",
    "\n",
    "\n",
    "  ## Introduction to data modeling\n",
    "  "
   ]
  }
 ],
 "metadata": {
  "kernelspec": {
   "display_name": "Mosh-IMAT21SL",
   "language": "python",
   "name": "python3"
  },
  "language_info": {
   "codemirror_mode": {
    "name": "ipython",
    "version": 3
   },
   "file_extension": ".py",
   "mimetype": "text/x-python",
   "name": "python",
   "nbconvert_exporter": "python",
   "pygments_lexer": "ipython3",
   "version": "3.11.3"
  }
 },
 "nbformat": 4,
 "nbformat_minor": 2
}
